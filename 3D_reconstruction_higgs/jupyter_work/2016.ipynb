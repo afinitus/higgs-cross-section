{
 "cells": [
  {
   "cell_type": "code",
   "execution_count": 1,
   "id": "bd2bb88b-2d27-46e8-8054-dc8e69080fa6",
   "metadata": {},
   "outputs": [
    {
     "name": "stdout",
     "output_type": "stream",
     "text": [
      "Welcome to JupyROOT 6.18/00\n"
     ]
    }
   ],
   "source": [
    "import ROOT as r\n",
    "import math as m\n",
    "import os"
   ]
  },
  {
   "cell_type": "code",
   "execution_count": 2,
   "id": "7e19a272-1892-4379-9054-23ed08b3fc09",
   "metadata": {},
   "outputs": [],
   "source": [
    "Output = r.TChain(\"output\")\n",
    "directory = \"/global/projecta/projectdirs/atlas/eressegu/Ntuple_h026_0630/data16/data/data16/root\"\n",
    "for filename in os.listdir(directory):\n",
    "    f = os.path.join(directory, filename)\n",
    "    if os.path.isfile(f):\n",
    "        Output.Add(f)\n",
    "\n",
    "i = 0\n",
    "Output2 = r.TChain(\"output\")\n",
    "directory2 = \"/global/projecta/projectdirs/atlas/eressegu/Ntuple_h026_0630/NonRes/mc16a/NonRes/root\"\n",
    "for filename in os.listdir(directory2):\n",
    "    i += 1\n",
    "    if i == 8:\n",
    "        break\n",
    "    f = os.path.join(directory2, filename)\n",
    "    if os.path.isfile(f):\n",
    "        Output2.Add(f)"
   ]
  },
  {
   "cell_type": "code",
   "execution_count": 3,
   "id": "217f0772-adeb-4785-8e93-15ff107bb553",
   "metadata": {},
   "outputs": [],
   "source": [
    "photon1 = r.TLorentzVector()\n",
    "photon2 = r.TLorentzVector()\n",
    "diphoton = r.TLorentzVector()\n",
    "\n",
    "h_2016_thetaphi = r.TH2F(\"2016thetavsphi\", \"2016thetavsphi\", 60,-180, 180, 60, -90, 90)\n",
    "h_MC_thetaphi = r.TH2F(\"MCthetavsphi\", \"MCthetavsphi\", 60,-180, 180, 60, -90, 90)\n",
    "h_MC_M = r.TH1F(\"h_MC_M\", \"h_MC_M\", 60, 0, 600)\n",
    "h_2016_M = r.TH1F(\"h_2016_M\", \"h_2016_M\", 60, 0, 600)"
   ]
  },
  {
   "cell_type": "code",
   "execution_count": 4,
   "id": "911ec21e-416c-4c43-8cd4-dee160707216",
   "metadata": {},
   "outputs": [
    {
     "name": "stderr",
     "output_type": "stream",
     "text": [
      "Warning in <TClass::Init>: no dictionary for class xAOD::EventFormat_v1 is available\n",
      "Warning in <TClass::Init>: no dictionary for class xAOD::AuxInfoBase is available\n",
      "Warning in <TClass::Init>: no dictionary for class SG::IAuxStore is available\n",
      "Warning in <TClass::Init>: no dictionary for class SG::IConstAuxStore is available\n",
      "Warning in <TClass::Init>: no dictionary for class SG::IAuxStoreIO is available\n",
      "Warning in <TClass::Init>: no dictionary for class SG::IAuxStoreHolder is available\n",
      "Warning in <TClass::Init>: no dictionary for class SG::AuxElement is available\n",
      "Warning in <TClass::Init>: no dictionary for class SG::IAuxElement is available\n",
      "Warning in <TClass::Init>: no dictionary for class xAOD::FileMetaData_v1 is available\n",
      "Warning in <TClass::Init>: no dictionary for class xAOD::FileMetaDataAuxInfo_v1 is available\n"
     ]
    }
   ],
   "source": [
    "for entry in Output:\n",
    "    if entry.isPassed:\n",
    "        photon1.SetPtEtaPhiE(entry.ph_pt1, entry.ph_eta1, entry.ph_phi1, entry.ph_E1)\n",
    "        photon2.SetPtEtaPhiE(entry.ph_pt2, entry.ph_eta2, entry.ph_phi2, entry.ph_E2)\n",
    "        diphoton = photon1 + photon2\n",
    "        angle = diphoton.Pt() / diphoton.Pz()\n",
    "        actual_angle = m.atan(angle) * 180 / m.pi\n",
    "        phi = diphoton.Phi() * 180 / m.pi\n",
    "        h_2016_thetaphi.Fill(phi, actual_angle)\n",
    "        h_2016_M.Fill(diphoton.M())"
   ]
  },
  {
   "cell_type": "code",
   "execution_count": 5,
   "id": "d5f3589f-1ec0-448e-8a44-781f8667b514",
   "metadata": {},
   "outputs": [
    {
     "name": "stderr",
     "output_type": "stream",
     "text": [
      "Warning in <TClass::Init>: no dictionary for class xAOD::TruthMetaData_v1 is available\n",
      "Warning in <TClass::Init>: no dictionary for class xAOD::TruthMetaDataAuxContainer_v1 is available\n",
      "Warning in <TClass::Init>: no dictionary for class xAOD::AuxContainerBase is available\n",
      "Warning in <TClass::Init>: no dictionary for class DataVector<xAOD::TruthMetaData_v1> is available\n"
     ]
    }
   ],
   "source": [
    "for entry in Output2:\n",
    "    if entry.isPassed:\n",
    "        photon1.SetPtEtaPhiE(entry.ph_pt1, entry.ph_eta1, entry.ph_phi1, entry.ph_E1)\n",
    "        photon2.SetPtEtaPhiE(entry.ph_pt2, entry.ph_eta2, entry.ph_phi2, entry.ph_E2)\n",
    "        diphoton = photon1 + photon2\n",
    "        angle = diphoton.Pt() / diphoton.Pz()\n",
    "        actual_angle = m.atan(angle) * 180 / m.pi\n",
    "        phi = diphoton.Phi() * 180 / m.pi\n",
    "        h_MC_thetaphi.Fill(phi, actual_angle)\n",
    "        h_MC_M.Fill(diphoton.M())"
   ]
  },
  {
   "cell_type": "code",
   "execution_count": 6,
   "id": "c70d503e-6948-488e-b40d-9ffce09a94f0",
   "metadata": {},
   "outputs": [
    {
     "data": {
      "text/plain": [
       "<ROOT.TFitResultPtr object at 0x55556f14a830>"
      ]
     },
     "execution_count": 6,
     "metadata": {},
     "output_type": "execute_result"
    },
    {
     "name": "stdout",
     "output_type": "stream",
     "text": [
      " FCN=9.34702e-26 FROM MIGRAD    STATUS=CONVERGED      28 CALLS          29 TOTAL\n",
      "                     EDM=5.18685e-20    STRATEGY= 1      ERROR MATRIX ACCURATE \n",
      "  EXT PARAMETER                                   STEP         FIRST   \n",
      "  NO.   NAME      VALUE            ERROR          SIZE      DERIVATIVE \n",
      "   1  Constant     6.30026e+00   9.10263e-02  -0.00000e+00   1.17361e-08\n",
      "   2  Slope        4.32172e-02   8.18793e-04   0.00000e+00   7.49242e-07\n",
      " FCN=5.55944e-26 FROM MIGRAD    STATUS=CONVERGED      28 CALLS          29 TOTAL\n",
      "                     EDM=4.62936e-19    STRATEGY= 1      ERROR MATRIX ACCURATE \n",
      "  EXT PARAMETER                                   STEP         FIRST   \n",
      "  NO.   NAME      VALUE            ERROR          SIZE      DERIVATIVE \n",
      "   1  Constant     7.23863e+00   5.51659e-02  -0.00000e+00   4.73228e-08\n",
      "   2  Slope        4.49163e-02   4.96045e-04   0.00000e+00   2.52156e-06\n"
     ]
    },
    {
     "name": "stderr",
     "output_type": "stream",
     "text": [
      "Info in <TCanvas::MakeDefCanvas>:  created default TCanvas with name c1\n"
     ]
    }
   ],
   "source": [
    "fit = r.TF1(\"expofit\", \"expo\", 100, 150)\n",
    "h_2016_M.Fit(fit, \"S\", \"\", 100, 120)\n",
    "\n",
    "fit2 = r.TF1(\"expofit\", \"expo\", 100, 150)\n",
    "h_MC_M.Fit(fit2, \"S\", \"\", 100, 120)"
   ]
  },
  {
   "cell_type": "code",
   "execution_count": 7,
   "id": "73d074f7-4a1e-4525-a238-d670356adc1e",
   "metadata": {},
   "outputs": [
    {
     "name": "stdout",
     "output_type": "stream",
     "text": [
      "1303841.75781322\n",
      "4767547.203131881\n",
      "1218059.7189826027\n",
      "4027084.0567152947\n",
      "15495207.086752776\n",
      "3852145.479878418\n"
     ]
    }
   ],
   "source": [
    "N1_2016 = fit.Integral(100, 120)\n",
    "print(N1_2016)\n",
    "N3_2016 = fit.Integral(130, 150)\n",
    "print(N3_2016)\n",
    "N2_2016 = fit.Integral(120, 130)\n",
    "print(N2_2016)\n",
    "N1_MC = fit2.Integral(100, 120)\n",
    "print(N1_MC)\n",
    "N3_MC = fit2.Integral(130, 150)\n",
    "print(N3_MC)\n",
    "N2_MC = fit2.Integral(120, 130)\n",
    "print(N2_MC)"
   ]
  },
  {
   "cell_type": "code",
   "execution_count": 8,
   "id": "61d576e6-1906-4507-8801-5025f0ada6e1",
   "metadata": {},
   "outputs": [
    {
     "name": "stdout",
     "output_type": "stream",
     "text": [
      "0.310997767440658\n"
     ]
    }
   ],
   "source": [
    "scale_MC = (N1_2016 + N3_2016) / (N1_MC + N3_MC)\n",
    "print(scale_MC)"
   ]
  },
  {
   "cell_type": "code",
   "execution_count": 9,
   "id": "4a6143fa-063b-41a3-b527-30e15dd677b8",
   "metadata": {},
   "outputs": [
    {
     "name": "stderr",
     "output_type": "stream",
     "text": [
      "Info in <TCanvas::Print>: png file MC2016Masses.png has been created\n",
      "Info in <TCanvas::Print>: png file MC2016subtracted.png has been created\n"
     ]
    }
   ],
   "source": [
    "h_2016_M_clone = h_2016_M.Clone(\"mass_2016_clone\")\n",
    "h_MC_M_clone = h_MC_M.Clone(\"mass_MC_clone\")\n",
    "h_MC_M_clone.Scale(scale_MC)\n",
    "canvas_1 = r.TCanvas(\"higgs_mass_both\", \"higgs_mass_both\")\n",
    "h_2016_M_clone.Draw()\n",
    "h_MC_M_clone.Draw(\"SAME\")\n",
    "h_2016_M_clone.GetXaxis().SetTitle(\"m_{#gamma#gamma} [GeV]\")\n",
    "h_2016_M_clone.GetYaxis().SetTitle(\"Entries\")\n",
    "canvas_1.SaveAs(\"MC2016Masses.png\")\n",
    "\n",
    "canvas_2 = r.TCanvas(\"mass_subtracted\", \"mass_subtracted\")\n",
    "h_2016_M_clone.Add(h_MC_M_clone, -1)\n",
    "h_2016_M_clone.Draw()\n",
    "h_2016_M_clone.SetLineWidth(2)\n",
    "h_2016_M_clone.SetLineColor(2)\n",
    "h_2016_M_clone.SetLineStyle(1)\n",
    "h_2016_M_clone.SetFillColor(2)\n",
    "canvas_2.SaveAs(\"MC2016subtracted.png\")"
   ]
  },
  {
   "cell_type": "code",
   "execution_count": 10,
   "id": "f8988a84-5d39-48dd-b4da-8c20bc51e0a3",
   "metadata": {},
   "outputs": [
    {
     "name": "stderr",
     "output_type": "stream",
     "text": [
      "Info in <TCanvas::Print>: png file 2016thetaphi.png has been created\n",
      "Info in <TCanvas::Print>: png file MC2016thetaphisubtracted.png has been created\n"
     ]
    }
   ],
   "source": [
    "canvas_thetaphi = r.TCanvas(\"higgs_thetaphi\", \"higgs_thetaphi\")\n",
    "h_2016_thetaphi.Draw(\"colz\")\n",
    "h_2016_thetaphi.GetXaxis().SetTitle(\"#phi_{#gamma#gamma}\")\n",
    "h_2016_thetaphi.GetYaxis().SetTitle(\"#theta_{#gamma#gamma}\")\n",
    "canvas_thetaphi.SaveAs(\"2016thetaphi.png\")\n",
    "\n",
    "h_2016_thetaphi_clone = h_2016_thetaphi.Clone()\n",
    "h_MC_thetaphi_clone = h_MC_thetaphi.Clone()\n",
    "h_MC_thetaphi_clone.Scale(scale_MC)\n",
    "h_2016_thetaphi_clone.Add(h_MC_thetaphi_clone, -1)\n",
    "h_2016_thetaphi_clone.Draw(\"colz\")\n",
    "h_2016_thetaphi_clone.GetXaxis().SetTitle(\"#phi_{#gamma#gamma}\")\n",
    "h_2016_thetaphi_clone.GetYaxis().SetTitle(\"#theta_{#gamma#gamma}\")\n",
    "canvas_thetaphi.SaveAs(\"MC2016thetaphisubtracted.png\")"
   ]
  },
  {
   "cell_type": "code",
   "execution_count": 11,
   "id": "d054c312-5600-45cd-9a1b-4dee8ae8c01b",
   "metadata": {},
   "outputs": [
    {
     "name": "stderr",
     "output_type": "stream",
     "text": [
      "Info in <TCanvas::Print>: png file 2016_M.png has been created\n"
     ]
    }
   ],
   "source": [
    "canvas_3 = r.TCanvas(\"mass\", \"mass\")\n",
    "h_2016_M.SetLineWidth(2)\n",
    "h_2016_M.SetLineColor(2)\n",
    "h_2016_M.SetLineStyle(1)\n",
    "h_2016_M.SetFillColor(2)\n",
    "h_2016_M.Draw()\n",
    "h_2016_M.GetXaxis().SetTitle(\"m_{#gamma#gamma} [GeV]\")\n",
    "h_2016_M.GetYaxis().SetTitle(\"Entries\")\n",
    "canvas_3.SaveAs(\"2016_M.png\")"
   ]
  },
  {
   "cell_type": "code",
   "execution_count": null,
   "id": "d660ed2d-f200-4aed-a444-1a08aa134271",
   "metadata": {},
   "outputs": [],
   "source": []
  }
 ],
 "metadata": {
  "kernelspec": {
   "display_name": "PyROOT - Python3",
   "language": "python",
   "name": "pyroot3"
  },
  "language_info": {
   "codemirror_mode": {
    "name": "ipython",
    "version": 3
   },
   "file_extension": ".py",
   "mimetype": "text/x-python",
   "name": "python",
   "nbconvert_exporter": "python",
   "pygments_lexer": "ipython3",
   "version": "3.6.8"
  }
 },
 "nbformat": 4,
 "nbformat_minor": 5
}
