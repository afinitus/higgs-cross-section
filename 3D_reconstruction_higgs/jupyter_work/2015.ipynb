{
 "cells": [
  {
   "cell_type": "code",
   "execution_count": 38,
   "id": "d68344af-7b89-493c-8b27-95b44420c0d8",
   "metadata": {},
   "outputs": [],
   "source": [
    "import ROOT as r\n",
    "import math as m\n",
    "import os"
   ]
  },
  {
   "cell_type": "code",
   "execution_count": 39,
   "id": "31a1df46-1cb7-43b5-9637-2b1a203d7188",
   "metadata": {},
   "outputs": [],
   "source": [
    "Output = r.TChain(\"output\")\n",
    "directory = \"/global/projecta/projectdirs/atlas/eressegu/Ntuple_h026_0630/data15/data/data15/root\"\n",
    "for filename in os.listdir(directory):\n",
    "    f = os.path.join(directory, filename)\n",
    "    if os.path.isfile(f):\n",
    "        Output.Add(f)\n",
    "\n",
    "i = 0\n",
    "Output2 = r.TChain(\"output\")\n",
    "directory2 = \"/global/projecta/projectdirs/atlas/eressegu/Ntuple_h026_0630/NonRes/mc16a/NonRes/root\"\n",
    "for filename in os.listdir(directory2):\n",
    "    i += 1\n",
    "    if i == 20:\n",
    "        break\n",
    "    f = os.path.join(directory2, filename)\n",
    "    if os.path.isfile(f):\n",
    "        Output2.Add(f)"
   ]
  },
  {
   "cell_type": "code",
   "execution_count": 40,
   "id": "2fb12f15-b379-4706-9d11-ad3b6e0d9096",
   "metadata": {},
   "outputs": [
    {
     "name": "stderr",
     "output_type": "stream",
     "text": [
      "Warning in <TROOT::Append>: Replacing existing TH1: 2015thetavsphi (Potential memory leak).\n",
      "Warning in <TROOT::Append>: Replacing existing TH1: 2015thetavsphi (Potential memory leak).\n",
      "Warning in <TROOT::Append>: Replacing existing TH1: MCthetavsphi (Potential memory leak).\n",
      "Warning in <TROOT::Append>: Replacing existing TH1: MCthetavsphi (Potential memory leak).\n",
      "Warning in <TROOT::Append>: Replacing existing TH1: h_MC_M (Potential memory leak).\n",
      "Warning in <TROOT::Append>: Replacing existing TH1: h_2015_M (Potential memory leak).\n"
     ]
    }
   ],
   "source": [
    "photon1 = r.TLorentzVector()\n",
    "photon2 = r.TLorentzVector()\n",
    "diphoton = r.TLorentzVector()\n",
    "\n",
    "h_2015_thetaphi = r.TH2F(\"2015thetavsphi\", \"2015thetavsphi\", 60,-180, 180, 60, -90, 90)\n",
    "h_MC_thetaphi = r.TH2F(\"MCthetavsphi\", \"MCthetavsphi\", 60,-180, 180, 60, -90, 90)\n",
    "h_MC_M = r.TH1F(\"h_MC_M\", \"h_MC_M\", 60, 0, 600)\n",
    "h_2015_M = r.TH1F(\"h_2015_M\", \"h_2015_M\", 60, 0, 600)"
   ]
  },
  {
   "cell_type": "code",
   "execution_count": 41,
   "id": "4e44fe9c-fc46-4188-b0e4-9e559e549128",
   "metadata": {},
   "outputs": [],
   "source": [
    "for entry in Output:\n",
    "    if entry.isPassed:\n",
    "        photon1.SetPtEtaPhiE(entry.ph_pt1, entry.ph_eta1, entry.ph_phi1, entry.ph_E1)\n",
    "        photon2.SetPtEtaPhiE(entry.ph_pt2, entry.ph_eta2, entry.ph_phi2, entry.ph_E2)\n",
    "        diphoton = photon1 + photon2\n",
    "        angle = diphoton.Pt() / diphoton.Pz()\n",
    "        actual_angle = m.atan(angle) * 180 / m.pi\n",
    "        phi = diphoton.Phi() * 180 / m.pi\n",
    "        h_2015_thetaphi.Fill(phi, actual_angle)\n",
    "        h_2015_M.Fill(diphoton.M())"
   ]
  },
  {
   "cell_type": "code",
   "execution_count": 42,
   "id": "680177e8-7741-48af-b9fb-b06c7e6efda6",
   "metadata": {},
   "outputs": [],
   "source": [
    "for entry in Output2:\n",
    "    if entry.isPassed:\n",
    "        photon1.SetPtEtaPhiE(entry.ph_pt1, entry.ph_eta1, entry.ph_phi1, entry.ph_E1)\n",
    "        photon2.SetPtEtaPhiE(entry.ph_pt2, entry.ph_eta2, entry.ph_phi2, entry.ph_E2)\n",
    "        diphoton = photon1 + photon2\n",
    "        angle = diphoton.Pt() / diphoton.Pz()\n",
    "        actual_angle = m.atan(angle) * 180 / m.pi\n",
    "        phi = diphoton.Phi() * 180 / m.pi\n",
    "        h_MC_thetaphi.Fill(phi, actual_angle)\n",
    "        h_MC_M.Fill(diphoton.M())"
   ]
  },
  {
   "cell_type": "code",
   "execution_count": 43,
   "id": "a9097e36-93a3-416e-ac36-29699925651f",
   "metadata": {},
   "outputs": [
    {
     "data": {
      "text/plain": [
       "<ROOT.TFitResultPtr object at 0x5555598c7ba0>"
      ]
     },
     "execution_count": 43,
     "metadata": {},
     "output_type": "execute_result"
    },
    {
     "name": "stdout",
     "output_type": "stream",
     "text": [
      " FCN=5.72212e-28 FROM MIGRAD    STATUS=CONVERGED      28 CALLS          29 TOTAL\n",
      "                     EDM=4.33155e-22    STRATEGY= 1      ERROR MATRIX ACCURATE \n",
      "  EXT PARAMETER                                   STEP         FIRST   \n",
      "  NO.   NAME      VALUE            ERROR          SIZE      DERIVATIVE \n",
      "   1  Constant     4.24959e+00   2.56490e-01   0.00000e+00   4.76575e-09\n",
      "   2  Slope        4.11574e-02   2.30817e-03  -0.00000e+00   5.31081e-07\n",
      " FCN=2.49042e-25 FROM MIGRAD    STATUS=CONVERGED      28 CALLS          29 TOTAL\n",
      "                     EDM=3.72625e-18    STRATEGY= 1      ERROR MATRIX ACCURATE \n",
      "  EXT PARAMETER                                   STEP         FIRST   \n",
      "  NO.   NAME      VALUE            ERROR          SIZE      DERIVATIVE \n",
      "   1  Constant     8.26038e+00   3.50247e-02  -0.00000e+00   1.74157e-07\n",
      "   2  Slope        4.49742e-02   3.14934e-04   0.00000e+00   7.11385e-06\n"
     ]
    }
   ],
   "source": [
    "fit = r.TF1(\"expofit\", \"expo\", 100, 150)\n",
    "h_2015_M.Fit(fit, \"S\", \"\", 100, 120)\n",
    "\n",
    "fit2 = r.TF1(\"expofit\", \"expo\", 100, 150)\n",
    "h_MC_M.Fit(fit2, \"S\", \"\", 100, 120)"
   ]
  },
  {
   "cell_type": "code",
   "execution_count": 44,
   "id": "3f60bb5a-a94a-4671-95b9-2a3306a44c35",
   "metadata": {},
   "outputs": [
    {
     "name": "stdout",
     "output_type": "stream",
     "text": [
      "133346.53532574078\n",
      "458367.9123969992\n",
      "121042.07471890091\n",
      "11259909.681165075\n",
      "43400649.354421765\n",
      "10779445.222831968\n"
     ]
    }
   ],
   "source": [
    "N1_2015 = fit.Integral(100, 120)\n",
    "print(N1_2015)\n",
    "N3_2015 = fit.Integral(130, 150)\n",
    "print(N3_2015)\n",
    "N2_2015 = fit.Integral(120, 130)\n",
    "print(N2_2015)\n",
    "N1_MC = fit2.Integral(100, 120)\n",
    "print(N1_MC)\n",
    "N3_MC = fit2.Integral(130, 150)\n",
    "print(N3_MC)\n",
    "N2_MC = fit2.Integral(120, 130)\n",
    "print(N2_MC)"
   ]
  },
  {
   "cell_type": "code",
   "execution_count": 45,
   "id": "c3677a92-c3cf-406a-bd64-84f2b2b79630",
   "metadata": {},
   "outputs": [
    {
     "name": "stdout",
     "output_type": "stream",
     "text": [
      "0.010825254226498184\n"
     ]
    }
   ],
   "source": [
    "scale_MC = (N1_2015 + N3_2015) / (N1_MC + N3_MC)\n",
    "print(scale_MC)"
   ]
  },
  {
   "cell_type": "code",
   "execution_count": 46,
   "id": "daee6bf4-db18-444f-ae8d-af96886a56e0",
   "metadata": {},
   "outputs": [
    {
     "name": "stderr",
     "output_type": "stream",
     "text": [
      "Warning in <TCanvas::Constructor>: Deleting canvas with same name: higgs_mass_both\n",
      "Info in <TCanvas::Print>: png file MC2015Masses.png has been created\n",
      "Warning in <TCanvas::Constructor>: Deleting canvas with same name: mass_subtracted\n",
      "Info in <TCanvas::Print>: png file MC2015subtracted.png has been created\n"
     ]
    }
   ],
   "source": [
    "h_2015_M_clone = h_2015_M.Clone(\"mass_2015_clone\")\n",
    "h_MC_M_clone = h_MC_M.Clone(\"mass_MC_clone\")\n",
    "h_MC_M_clone.Scale(scale_MC)\n",
    "canvas_1 = r.TCanvas(\"higgs_mass_both\", \"higgs_mass_both\")\n",
    "h_2015_M_clone.Draw()\n",
    "h_MC_M_clone.Draw(\"SAME\")\n",
    "h_2015_M_clone.GetXaxis().SetTitle(\"m_{#gamma#gamma} [GeV]\")\n",
    "h_2015_M_clone.GetYaxis().SetTitle(\"Entries\")\n",
    "canvas_1.SaveAs(\"MC2015Masses.png\")\n",
    "\n",
    "canvas_2 = r.TCanvas(\"mass_subtracted\", \"mass_subtracted\")\n",
    "h_2015_M_clone.Add(h_MC_M_clone, -1)\n",
    "h_2015_M_clone.Draw()\n",
    "h_2015_M_clone.SetLineWidth(2)\n",
    "h_2015_M_clone.SetLineColor(2)\n",
    "h_2015_M_clone.SetLineStyle(1)\n",
    "h_2015_M_clone.SetFillColor(2)\n",
    "canvas_2.SaveAs(\"MC2015subtracted.png\")"
   ]
  },
  {
   "cell_type": "code",
   "execution_count": 47,
   "id": "fc8ebcbb-f62a-448e-9594-c632e8a43eef",
   "metadata": {},
   "outputs": [
    {
     "name": "stderr",
     "output_type": "stream",
     "text": [
      "Warning in <TCanvas::Constructor>: Deleting canvas with same name: higgs_thetaphi\n",
      "Info in <TCanvas::Print>: png file 2015thetaphi.png has been created\n",
      "Info in <TCanvas::Print>: png file MCthetaphi.png has been created\n",
      "Info in <TCanvas::Print>: png file MC2015thetaphisubtracted.png has been created\n"
     ]
    }
   ],
   "source": [
    "canvas_thetaphi = r.TCanvas(\"higgs_thetaphi\", \"higgs_thetaphi\")\n",
    "h_2015_thetaphi.Draw(\"colz\")\n",
    "h_2015_thetaphi.GetXaxis().SetTitle(\"#phi_{#gamma#gamma}\")\n",
    "h_2015_thetaphi.GetYaxis().SetTitle(\"#theta_{#gamma#gamma}\")\n",
    "canvas_thetaphi.SaveAs(\"2015thetaphi.png\")\n",
    "\n",
    "h_MC_thetaphi.Draw(\"colz\")\n",
    "h_MC_thetaphi.GetXaxis().SetTitle(\"#phi_{#gamma#gamma}\")\n",
    "h_MC_thetaphi.GetYaxis().SetTitle(\"#theta_{#gamma#gamma}\")\n",
    "canvas_thetaphi.SaveAs(\"MCthetaphi.png\")\n",
    "\n",
    "h_2015_thetaphi_clone = h_2015_thetaphi.Clone()\n",
    "h_MC_thetaphi_clone = h_MC_thetaphi.Clone()\n",
    "h_MC_thetaphi_clone.Scale(scale_MC)\n",
    "h_2015_thetaphi_clone.Add(h_MC_thetaphi_clone, -1)\n",
    "h_2015_thetaphi_clone.Draw(\"colz\")\n",
    "h_2015_thetaphi_clone.GetXaxis().SetTitle(\"#phi_{#gamma#gamma}\")\n",
    "h_2015_thetaphi_clone.GetYaxis().SetTitle(\"#theta_{#gamma#gamma}\")\n",
    "canvas_thetaphi.SaveAs(\"MC2015thetaphisubtracted.png\")\n"
   ]
  },
  {
   "cell_type": "code",
   "execution_count": 48,
   "id": "733dcd3d-54ac-4731-a722-e4fb523d9d76",
   "metadata": {},
   "outputs": [
    {
     "name": "stderr",
     "output_type": "stream",
     "text": [
      "Warning in <TCanvas::Constructor>: Deleting canvas with same name: mass\n",
      "Info in <TCanvas::Print>: png file 2015_M.png has been created\n",
      "Warning in <TCanvas::Constructor>: Deleting canvas with same name: mass\n",
      "Info in <TCanvas::Print>: png file MC_M.png has been created\n"
     ]
    }
   ],
   "source": [
    "canvas_3 = r.TCanvas(\"mass\", \"mass\")\n",
    "h_2015_M.SetLineWidth(2)\n",
    "h_2015_M.SetLineColor(2)\n",
    "h_2015_M.SetLineStyle(1)\n",
    "h_2015_M.SetFillColor(2)\n",
    "h_2015_M.Draw()\n",
    "h_2015_M.GetXaxis().SetTitle(\"m_{#gamma#gamma} [GeV]\")\n",
    "h_2015_M.GetYaxis().SetTitle(\"Entries\")\n",
    "canvas_3.SaveAs(\"2015_M.png\")\n",
    "\n",
    "canvas_4 = r.TCanvas(\"mass\", \"mass\")\n",
    "h_MC_M.SetLineWidth(2)\n",
    "h_MC_M.SetLineColor(2)\n",
    "h_MC_M.SetLineStyle(1)\n",
    "h_MC_M.SetFillColor(2)\n",
    "h_MC_M.Draw()\n",
    "h_MC_M.GetXaxis().SetTitle(\"m_{#gamma#gamma} [GeV]\")\n",
    "h_MC_M.GetYaxis().SetTitle(\"Entries\")\n",
    "canvas_4.SaveAs(\"MC_M.png\")"
   ]
  },
  {
   "cell_type": "code",
   "execution_count": null,
   "id": "1576152b-552b-40d1-970a-7b95ae611fc9",
   "metadata": {},
   "outputs": [],
   "source": []
  }
 ],
 "metadata": {
  "kernelspec": {
   "display_name": "PyROOT - Python3",
   "language": "python",
   "name": "pyroot3"
  },
  "language_info": {
   "codemirror_mode": {
    "name": "ipython",
    "version": 3
   },
   "file_extension": ".py",
   "mimetype": "text/x-python",
   "name": "python",
   "nbconvert_exporter": "python",
   "pygments_lexer": "ipython3",
   "version": "3.6.8"
  }
 },
 "nbformat": 4,
 "nbformat_minor": 5
}
