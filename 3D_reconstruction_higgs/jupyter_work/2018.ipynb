{
 "cells": [
  {
   "cell_type": "code",
   "execution_count": 1,
   "id": "7c2c0d2a-e301-4a6c-866b-e4d1196935a3",
   "metadata": {},
   "outputs": [
    {
     "name": "stdout",
     "output_type": "stream",
     "text": [
      "Welcome to JupyROOT 6.18/00\n"
     ]
    }
   ],
   "source": [
    "import ROOT as r\n",
    "import math as m\n",
    "import os"
   ]
  },
  {
   "cell_type": "code",
   "execution_count": 2,
   "id": "85398f62-71b3-485a-b991-3593976563fb",
   "metadata": {},
   "outputs": [],
   "source": [
    "Output = r.TChain(\"output\")\n",
    "directory = \"/global/projecta/projectdirs/atlas/eressegu/Ntuple_h026_0630/data18/data/data18/root\"\n",
    "for filename in os.listdir(directory):\n",
    "    f = os.path.join(directory, filename)\n",
    "    if os.path.isfile(f):\n",
    "        Output.Add(f)\n",
    "\n",
    "i = 0\n",
    "Output2 = r.TChain(\"output\")\n",
    "directory2 = \"/global/projecta/projectdirs/atlas/eressegu/Ntuple_h026_0630/NonRes/mc16a/NonRes/root\"\n",
    "for filename in os.listdir(directory2):\n",
    "    i += 1\n",
    "    if i == 8:\n",
    "        break\n",
    "    f = os.path.join(directory2, filename)\n",
    "    if os.path.isfile(f):\n",
    "        Output2.Add(f)"
   ]
  },
  {
   "cell_type": "code",
   "execution_count": 3,
   "id": "51d58ae4-ebb1-451c-a752-69c201a8ae6e",
   "metadata": {},
   "outputs": [],
   "source": [
    "photon1 = r.TLorentzVector()\n",
    "photon2 = r.TLorentzVector()\n",
    "diphoton = r.TLorentzVector()\n",
    "\n",
    "h_2018_thetaphi = r.TH2F(\"2018thetavsphi\", \"2018thetavsphi\", 60,-180, 180, 60, -90, 90)\n",
    "h_MC_thetaphi = r.TH2F(\"MCthetavsphi\", \"MCthetavsphi\", 60,-180, 180, 60, -90, 90)\n",
    "h_MC_M = r.TH1F(\"h_MC_M\", \"h_MC_M\", 55, 105, 160)\n",
    "h_2018_M = r.TH1F(\"h_2018_M\", \"h_2018_M\", 55, 105, 160)"
   ]
  },
  {
   "cell_type": "code",
   "execution_count": 4,
   "id": "b83d2efe-e7e2-4d81-bcac-e06760c35818",
   "metadata": {},
   "outputs": [
    {
     "name": "stderr",
     "output_type": "stream",
     "text": [
      "Warning in <TClass::Init>: no dictionary for class xAOD::EventFormat_v1 is available\n",
      "Warning in <TClass::Init>: no dictionary for class xAOD::AuxInfoBase is available\n",
      "Warning in <TClass::Init>: no dictionary for class SG::IAuxStore is available\n",
      "Warning in <TClass::Init>: no dictionary for class SG::IConstAuxStore is available\n",
      "Warning in <TClass::Init>: no dictionary for class SG::IAuxStoreIO is available\n",
      "Warning in <TClass::Init>: no dictionary for class SG::IAuxStoreHolder is available\n",
      "Warning in <TClass::Init>: no dictionary for class SG::AuxElement is available\n",
      "Warning in <TClass::Init>: no dictionary for class SG::IAuxElement is available\n",
      "Warning in <TClass::Init>: no dictionary for class xAOD::FileMetaData_v1 is available\n",
      "Warning in <TClass::Init>: no dictionary for class xAOD::FileMetaDataAuxInfo_v1 is available\n"
     ]
    }
   ],
   "source": [
    "for entry in Output:\n",
    "    if entry.isPassed:\n",
    "        photon1.SetPtEtaPhiE(entry.ph_pt1, entry.ph_eta1, entry.ph_phi1, entry.ph_E1)\n",
    "        photon2.SetPtEtaPhiE(entry.ph_pt2, entry.ph_eta2, entry.ph_phi2, entry.ph_E2)\n",
    "        diphoton = photon1 + photon2\n",
    "        angle = diphoton.Pt() / diphoton.Pz()\n",
    "        actual_angle = m.atan(angle) * 180 / m.pi\n",
    "        phi = diphoton.Phi() * 180 / m.pi\n",
    "        h_2018_thetaphi.Fill(phi, actual_angle)\n",
    "        h_2018_M.Fill(diphoton.M())"
   ]
  },
  {
   "cell_type": "code",
   "execution_count": 5,
   "id": "53a93ce9-9118-4692-b049-4774f799861f",
   "metadata": {},
   "outputs": [
    {
     "name": "stderr",
     "output_type": "stream",
     "text": [
      "Warning in <TClass::Init>: no dictionary for class xAOD::TruthMetaData_v1 is available\n",
      "Warning in <TClass::Init>: no dictionary for class xAOD::TruthMetaDataAuxContainer_v1 is available\n",
      "Warning in <TClass::Init>: no dictionary for class xAOD::AuxContainerBase is available\n",
      "Warning in <TClass::Init>: no dictionary for class DataVector<xAOD::TruthMetaData_v1> is available\n"
     ]
    }
   ],
   "source": [
    "for entry in Output2:\n",
    "    if entry.isPassed:\n",
    "        photon1.SetPtEtaPhiE(entry.ph_pt1, entry.ph_eta1, entry.ph_phi1, entry.ph_E1)\n",
    "        photon2.SetPtEtaPhiE(entry.ph_pt2, entry.ph_eta2, entry.ph_phi2, entry.ph_E2)\n",
    "        diphoton = photon1 + photon2\n",
    "        angle = diphoton.Pt() / diphoton.Pz()\n",
    "        actual_angle = m.atan(angle) * 180 / m.pi\n",
    "        phi = diphoton.Phi() * 180 / m.pi\n",
    "        h_MC_thetaphi.Fill(phi, actual_angle)\n",
    "        h_MC_M.Fill(diphoton.M())"
   ]
  },
  {
   "cell_type": "code",
   "execution_count": 6,
   "id": "dbef92c0-a1d2-455f-bc09-1149993fc1d4",
   "metadata": {},
   "outputs": [
    {
     "data": {
      "text/plain": [
       "<ROOT.TFitResultPtr object at 0x55555620dde0>"
      ]
     },
     "execution_count": 6,
     "metadata": {},
     "output_type": "execute_result"
    },
    {
     "name": "stdout",
     "output_type": "stream",
     "text": [
      " FCN=226.318 FROM MIGRAD    STATUS=CONVERGED      55 CALLS          56 TOTAL\n",
      "                     EDM=1.47368e-10    STRATEGY= 1      ERROR MATRIX ACCURATE \n",
      "  EXT PARAMETER                                   STEP         FIRST   \n",
      "  NO.   NAME      VALUE            ERROR          SIZE      DERIVATIVE \n",
      "   1  Constant     1.30762e+01   1.22617e-02   1.04477e-05   7.43685e-03\n",
      "   2  Slope       -3.08318e-02   9.73697e-05   8.29645e-08   1.06929e+00\n",
      " FCN=357.979 FROM MIGRAD    STATUS=CONVERGED      50 CALLS          51 TOTAL\n",
      "                     EDM=5.36539e-07    STRATEGY= 1      ERROR MATRIX ACCURATE \n",
      "  EXT PARAMETER                                   STEP         FIRST   \n",
      "  NO.   NAME      VALUE            ERROR          SIZE      DERIVATIVE \n",
      "   1  Constant     1.35291e+01   9.19484e-03   9.83292e-06   6.40077e-01\n",
      "   2  Slope       -2.98295e-02   7.28886e-05   7.79460e-08   6.94858e+01\n"
     ]
    },
    {
     "name": "stderr",
     "output_type": "stream",
     "text": [
      "Info in <TCanvas::MakeDefCanvas>:  created default TCanvas with name c1\n"
     ]
    }
   ],
   "source": [
    "fit = r.TF1(\"expofit\", \"expo\", 100, 150)\n",
    "h_2018_M.Fit(fit, \"S\", \"\", 105, 160)\n",
    "\n",
    "fit2 = r.TF1(\"expofit\", \"expo\", 100, 150)\n",
    "h_MC_M.Fit(fit2, \"S\", \"\", 105, 160)"
   ]
  },
  {
   "cell_type": "code",
   "execution_count": 7,
   "id": "fdc0ef52-76e7-47bd-a6fa-4af313d67e03",
   "metadata": {},
   "outputs": [
    {
     "name": "stdout",
     "output_type": "stream",
     "text": [
      "225165.77305824964\n",
      "169771.30730326244\n",
      "101599.27145207774\n",
      "396198.22279237985\n",
      "308099.54905517504\n",
      "181083.39381279645\n"
     ]
    }
   ],
   "source": [
    "N1_2018 = fit.Integral(105, 120)\n",
    "print(N1_2018)\n",
    "N3_2018 = fit.Integral(130, 160)\n",
    "print(N3_2018)\n",
    "N2_2018 = fit.Integral(120, 130)\n",
    "print(N2_2018)\n",
    "N1_MC = fit2.Integral(105, 120)\n",
    "print(N1_MC)\n",
    "N3_MC = fit2.Integral(130, 160)\n",
    "print(N3_MC)\n",
    "N2_MC = fit2.Integral(120, 130)\n",
    "print(N2_MC)"
   ]
  },
  {
   "cell_type": "code",
   "execution_count": 8,
   "id": "42119b15-4127-4579-b7f2-c2af84140587",
   "metadata": {},
   "outputs": [
    {
     "name": "stdout",
     "output_type": "stream",
     "text": [
      "0.5607529885058278\n"
     ]
    }
   ],
   "source": [
    "scale_MC = (N1_2018 + N3_2018) / (N1_MC + N3_MC)\n",
    "print(scale_MC)"
   ]
  },
  {
   "cell_type": "code",
   "execution_count": 9,
   "id": "0d9218d5-db1b-4d75-bfa4-a801bb580146",
   "metadata": {},
   "outputs": [
    {
     "name": "stderr",
     "output_type": "stream",
     "text": [
      "Info in <TCanvas::Print>: png file MC2018Masses.png has been created\n",
      "Info in <TCanvas::Print>: png file MC2018subtracted.png has been created\n"
     ]
    }
   ],
   "source": [
    "h_2018_M_clone = h_2018_M.Clone(\"mass_2018_clone\")\n",
    "h_MC_M_clone = h_MC_M.Clone(\"mass_MC_clone\")\n",
    "h_MC_M_clone.Scale(scale_MC)\n",
    "canvas_1 = r.TCanvas(\"higgs_mass_both\", \"higgs_mass_both\")\n",
    "h_2018_M_clone.Draw()\n",
    "h_MC_M_clone.Draw(\"SAME\")\n",
    "h_2018_M_clone.GetXaxis().SetTitle(\"m_{#gamma#gamma} [GeV]\")\n",
    "h_2018_M_clone.GetYaxis().SetTitle(\"Entries\")\n",
    "canvas_1.SaveAs(\"MC2018Masses.png\")\n",
    "\n",
    "canvas_2 = r.TCanvas(\"mass_subtracted\", \"mass_subtracted\")\n",
    "h_2018_M_clone.Add(h_MC_M_clone, -1)\n",
    "h_2018_M_clone.Draw()\n",
    "h_2018_M_clone.SetLineWidth(2)\n",
    "h_2018_M_clone.SetLineColor(2)\n",
    "h_2018_M_clone.SetLineStyle(1)\n",
    "h_2018_M_clone.SetFillColor(2)\n",
    "canvas_2.SaveAs(\"MC2018subtracted.png\")"
   ]
  },
  {
   "cell_type": "code",
   "execution_count": 10,
   "id": "413c9388-23e3-4e3f-9055-bc7141535d66",
   "metadata": {},
   "outputs": [
    {
     "name": "stderr",
     "output_type": "stream",
     "text": [
      "Info in <TCanvas::Print>: png file 2018thetaphi.png has been created\n",
      "Info in <TCanvas::Print>: png file MC2018thetaphisubtracted.png has been created\n"
     ]
    }
   ],
   "source": [
    "canvas_thetaphi = r.TCanvas(\"higgs_thetaphi\", \"higgs_thetaphi\")\n",
    "h_2018_thetaphi.Draw(\"colz\")\n",
    "h_2018_thetaphi.GetXaxis().SetTitle(\"#phi_{#gamma#gamma}\")\n",
    "h_2018_thetaphi.GetYaxis().SetTitle(\"#theta_{#gamma#gamma}\")\n",
    "canvas_thetaphi.SaveAs(\"2018thetaphi.png\")\n",
    "\n",
    "h_2018_thetaphi_clone = h_2018_thetaphi.Clone()\n",
    "h_MC_thetaphi_clone = h_MC_thetaphi.Clone()\n",
    "h_MC_thetaphi_clone.Scale(scale_MC)\n",
    "h_2018_thetaphi_clone.Add(h_MC_thetaphi_clone, -1)\n",
    "h_2018_thetaphi_clone.Draw(\"colz\")\n",
    "h_2018_thetaphi_clone.GetXaxis().SetTitle(\"#phi_{#gamma#gamma}\")\n",
    "h_2018_thetaphi_clone.GetYaxis().SetTitle(\"#theta_{#gamma#gamma}\")\n",
    "canvas_thetaphi.SaveAs(\"MC2018thetaphisubtracted.png\")"
   ]
  },
  {
   "cell_type": "code",
   "execution_count": 11,
   "id": "ed30abb0-083e-4e9b-959e-14cd31e7e81b",
   "metadata": {},
   "outputs": [
    {
     "name": "stderr",
     "output_type": "stream",
     "text": [
      "Info in <TCanvas::Print>: png file 2018_M.png has been created\n"
     ]
    }
   ],
   "source": [
    "canvas_3 = r.TCanvas(\"mass\", \"mass\")\n",
    "h_2018_M.SetLineWidth(2)\n",
    "h_2018_M.SetLineColor(2)\n",
    "h_2018_M.SetLineStyle(1)\n",
    "h_2018_M.SetFillColor(2)\n",
    "h_2018_M.Draw()\n",
    "h_2018_M.GetXaxis().SetTitle(\"m_{#gamma#gamma} [GeV]\")\n",
    "h_2018_M.GetYaxis().SetTitle(\"Entries\")\n",
    "canvas_3.SaveAs(\"2018_M.png\")"
   ]
  },
  {
   "cell_type": "code",
   "execution_count": null,
   "id": "e8fc0904-20dd-4c07-8818-3325dd8cf12a",
   "metadata": {},
   "outputs": [],
   "source": []
  }
 ],
 "metadata": {
  "kernelspec": {
   "display_name": "PyROOT - Python3",
   "language": "python",
   "name": "pyroot3"
  },
  "language_info": {
   "codemirror_mode": {
    "name": "ipython",
    "version": 3
   },
   "file_extension": ".py",
   "mimetype": "text/x-python",
   "name": "python",
   "nbconvert_exporter": "python",
   "pygments_lexer": "ipython3",
   "version": "3.6.8"
  }
 },
 "nbformat": 4,
 "nbformat_minor": 5
}
