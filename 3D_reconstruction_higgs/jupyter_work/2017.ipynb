{
 "cells": [
  {
   "cell_type": "code",
   "execution_count": 1,
   "id": "cbcdc318-163d-4464-a940-5404c4d5e0ca",
   "metadata": {},
   "outputs": [
    {
     "name": "stdout",
     "output_type": "stream",
     "text": [
      "Welcome to JupyROOT 6.18/00\n"
     ]
    }
   ],
   "source": [
    "import ROOT as r\n",
    "import math as m\n",
    "import os"
   ]
  },
  {
   "cell_type": "code",
   "execution_count": 2,
   "id": "7665502f-3ec5-4664-9cc3-99f227925f68",
   "metadata": {},
   "outputs": [],
   "source": [
    "Output = r.TChain(\"output\")\n",
    "directory = \"/global/projecta/projectdirs/atlas/eressegu/Ntuple_h026_0630/data17/data/data17/root\"\n",
    "for filename in os.listdir(directory):\n",
    "    f = os.path.join(directory, filename)\n",
    "    if os.path.isfile(f):\n",
    "        Output.Add(f)\n",
    "\n",
    "i = 0\n",
    "Output2 = r.TChain(\"output\")\n",
    "directory2 = \"/global/projecta/projectdirs/atlas/eressegu/Ntuple_h026_0630/NonRes/mc16a/NonRes/root\"\n",
    "for filename in os.listdir(directory2):\n",
    "    i += 1\n",
    "    if i == 8:\n",
    "        break\n",
    "    f = os.path.join(directory2, filename)\n",
    "    if os.path.isfile(f):\n",
    "        Output2.Add(f)"
   ]
  },
  {
   "cell_type": "code",
   "execution_count": 3,
   "id": "0a7ab54e-56ec-4e21-b56d-fdb2086e118c",
   "metadata": {},
   "outputs": [],
   "source": [
    "photon1 = r.TLorentzVector()\n",
    "photon2 = r.TLorentzVector()\n",
    "diphoton = r.TLorentzVector()\n",
    "\n",
    "h_2017_thetaphi = r.TH2F(\"2017thetavsphi\", \"2017thetavsphi\", 60,-180, 180, 60, -90, 90)\n",
    "h_MC_thetaphi = r.TH2F(\"MCthetavsphi\", \"MCthetavsphi\", 60,-180, 180, 60, -90, 90)\n",
    "h_MC_M = r.TH1F(\"h_MC_M\", \"h_MC_M\", 60, 0, 600)\n",
    "h_2017_M = r.TH1F(\"h_2017_M\", \"h_2017_M\", 60, 0, 600)"
   ]
  },
  {
   "cell_type": "code",
   "execution_count": 4,
   "id": "1955adfb-3202-469d-a5d2-b96637d8132d",
   "metadata": {},
   "outputs": [
    {
     "name": "stderr",
     "output_type": "stream",
     "text": [
      "Warning in <TClass::Init>: no dictionary for class xAOD::EventFormat_v1 is available\n",
      "Warning in <TClass::Init>: no dictionary for class xAOD::AuxInfoBase is available\n",
      "Warning in <TClass::Init>: no dictionary for class SG::IAuxStore is available\n",
      "Warning in <TClass::Init>: no dictionary for class SG::IConstAuxStore is available\n",
      "Warning in <TClass::Init>: no dictionary for class SG::IAuxStoreIO is available\n",
      "Warning in <TClass::Init>: no dictionary for class SG::IAuxStoreHolder is available\n",
      "Warning in <TClass::Init>: no dictionary for class SG::AuxElement is available\n",
      "Warning in <TClass::Init>: no dictionary for class SG::IAuxElement is available\n",
      "Warning in <TClass::Init>: no dictionary for class xAOD::FileMetaData_v1 is available\n",
      "Warning in <TClass::Init>: no dictionary for class xAOD::FileMetaDataAuxInfo_v1 is available\n"
     ]
    }
   ],
   "source": [
    "for entry in Output:\n",
    "    if entry.isPassed:\n",
    "        photon1.SetPtEtaPhiE(entry.ph_pt1, entry.ph_eta1, entry.ph_phi1, entry.ph_E1)\n",
    "        photon2.SetPtEtaPhiE(entry.ph_pt2, entry.ph_eta2, entry.ph_phi2, entry.ph_E2)\n",
    "        diphoton = photon1 + photon2\n",
    "        angle = diphoton.Pt() / diphoton.Pz()\n",
    "        actual_angle = m.atan(angle) * 180 / m.pi\n",
    "        phi = diphoton.Phi() * 180 / m.pi\n",
    "        h_2017_thetaphi.Fill(phi, actual_angle)\n",
    "        h_2017_M.Fill(diphoton.M())"
   ]
  },
  {
   "cell_type": "code",
   "execution_count": 5,
   "id": "47f357ea-3ecb-4e95-86b1-9b2053308d63",
   "metadata": {},
   "outputs": [
    {
     "name": "stderr",
     "output_type": "stream",
     "text": [
      "Warning in <TClass::Init>: no dictionary for class xAOD::TruthMetaData_v1 is available\n",
      "Warning in <TClass::Init>: no dictionary for class xAOD::TruthMetaDataAuxContainer_v1 is available\n",
      "Warning in <TClass::Init>: no dictionary for class xAOD::AuxContainerBase is available\n",
      "Warning in <TClass::Init>: no dictionary for class DataVector<xAOD::TruthMetaData_v1> is available\n"
     ]
    }
   ],
   "source": [
    "for entry in Output2:\n",
    "    if entry.isPassed:\n",
    "        photon1.SetPtEtaPhiE(entry.ph_pt1, entry.ph_eta1, entry.ph_phi1, entry.ph_E1)\n",
    "        photon2.SetPtEtaPhiE(entry.ph_pt2, entry.ph_eta2, entry.ph_phi2, entry.ph_E2)\n",
    "        diphoton = photon1 + photon2\n",
    "        angle = diphoton.Pt() / diphoton.Pz()\n",
    "        actual_angle = m.atan(angle) * 180 / m.pi\n",
    "        phi = diphoton.Phi() * 180 / m.pi\n",
    "        h_MC_thetaphi.Fill(phi, actual_angle)\n",
    "        h_MC_M.Fill(diphoton.M())"
   ]
  },
  {
   "cell_type": "code",
   "execution_count": 6,
   "id": "9abdfac1-0c24-4f07-aff4-c914d4ec7bc8",
   "metadata": {},
   "outputs": [
    {
     "data": {
      "text/plain": [
       "<ROOT.TFitResultPtr object at 0x5555681d74d0>"
      ]
     },
     "execution_count": 6,
     "metadata": {},
     "output_type": "execute_result"
    },
    {
     "name": "stdout",
     "output_type": "stream",
     "text": [
      " FCN=8.46489e-26 FROM MIGRAD    STATUS=CONVERGED      28 CALLS          29 TOTAL\n",
      "                     EDM=7.32894e-20    STRATEGY= 1      ERROR MATRIX ACCURATE \n",
      "  EXT PARAMETER                                   STEP         FIRST   \n",
      "  NO.   NAME      VALUE            ERROR          SIZE      DERIVATIVE \n",
      "   1  Constant     6.45637e+00   8.11120e-02  -0.00000e+00   1.57015e-08\n",
      "   2  Slope        4.41658e-02   7.29465e-04   0.00000e+00   1.00474e-06\n",
      " FCN=5.55944e-26 FROM MIGRAD    STATUS=CONVERGED      28 CALLS          29 TOTAL\n",
      "                     EDM=4.62936e-19    STRATEGY= 1      ERROR MATRIX ACCURATE \n",
      "  EXT PARAMETER                                   STEP         FIRST   \n",
      "  NO.   NAME      VALUE            ERROR          SIZE      DERIVATIVE \n",
      "   1  Constant     7.23863e+00   5.51659e-02  -0.00000e+00   4.73228e-08\n",
      "   2  Slope        4.49163e-02   4.96045e-04   0.00000e+00   2.52156e-06\n"
     ]
    },
    {
     "name": "stderr",
     "output_type": "stream",
     "text": [
      "Info in <TCanvas::MakeDefCanvas>:  created default TCanvas with name c1\n"
     ]
    }
   ],
   "source": [
    "fit = r.TF1(\"expofit\", \"expo\", 100, 150)\n",
    "h_2017_M.Fit(fit, \"S\", \"\", 100, 120)\n",
    "\n",
    "fit2 = r.TF1(\"expofit\", \"expo\", 100, 150)\n",
    "h_MC_M.Fit(fit2, \"S\", \"\", 100, 120)"
   ]
  },
  {
   "cell_type": "code",
   "execution_count": 7,
   "id": "7ff468a8-d023-4586-be28-8d5fd6868021",
   "metadata": {},
   "outputs": [
    {
     "name": "stdout",
     "output_type": "stream",
     "text": [
      "1694070.7442710467\n",
      "6373239.786072997\n",
      "1603657.395452587\n",
      "4027084.0567152947\n",
      "15495207.086752776\n",
      "3852145.479878418\n"
     ]
    }
   ],
   "source": [
    "N1_2017 = fit.Integral(100, 120)\n",
    "print(N1_2017)\n",
    "N3_2017 = fit.Integral(130, 150)\n",
    "print(N3_2017)\n",
    "N2_2017 = fit.Integral(120, 130)\n",
    "print(N2_2017)\n",
    "N1_MC = fit2.Integral(100, 120)\n",
    "print(N1_MC)\n",
    "N3_MC = fit2.Integral(130, 150)\n",
    "print(N3_MC)\n",
    "N2_MC = fit2.Integral(120, 130)\n",
    "print(N2_MC)"
   ]
  },
  {
   "cell_type": "code",
   "execution_count": 8,
   "id": "2cf2820b-288b-4e18-9fdc-1306df0d311f",
   "metadata": {},
   "outputs": [
    {
     "name": "stdout",
     "output_type": "stream",
     "text": [
      "0.4132358477321076\n"
     ]
    }
   ],
   "source": [
    "scale_MC = (N1_2017 + N3_2017) / (N1_MC + N3_MC)\n",
    "print(scale_MC)"
   ]
  },
  {
   "cell_type": "code",
   "execution_count": 9,
   "id": "255fd6cc-c8a8-4085-82fe-b8cb536f2e18",
   "metadata": {},
   "outputs": [
    {
     "name": "stderr",
     "output_type": "stream",
     "text": [
      "Info in <TCanvas::Print>: png file MC2017Masses.png has been created\n",
      "Info in <TCanvas::Print>: png file MC2017subtracted.png has been created\n"
     ]
    }
   ],
   "source": [
    "h_2017_M_clone = h_2017_M.Clone(\"mass_2017_clone\")\n",
    "h_MC_M_clone = h_MC_M.Clone(\"mass_MC_clone\")\n",
    "h_MC_M_clone.Scale(scale_MC)\n",
    "canvas_1 = r.TCanvas(\"higgs_mass_both\", \"higgs_mass_both\")\n",
    "h_2017_M_clone.Draw()\n",
    "h_MC_M_clone.Draw(\"SAME\")\n",
    "h_2017_M_clone.GetXaxis().SetTitle(\"m_{#gamma#gamma} [GeV]\")\n",
    "h_2017_M_clone.GetYaxis().SetTitle(\"Entries\")\n",
    "canvas_1.SaveAs(\"MC2017Masses.png\")\n",
    "\n",
    "canvas_2 = r.TCanvas(\"mass_subtracted\", \"mass_subtracted\")\n",
    "h_2017_M_clone.Add(h_MC_M_clone, -1)\n",
    "h_2017_M_clone.Draw()\n",
    "h_2017_M_clone.SetLineWidth(2)\n",
    "h_2017_M_clone.SetLineColor(2)\n",
    "h_2017_M_clone.SetLineStyle(1)\n",
    "h_2017_M_clone.SetFillColor(2)\n",
    "canvas_2.SaveAs(\"MC2017subtracted.png\")"
   ]
  },
  {
   "cell_type": "code",
   "execution_count": 10,
   "id": "2c1e9c13-f7a4-499d-95aa-a860181c1b9b",
   "metadata": {},
   "outputs": [
    {
     "name": "stderr",
     "output_type": "stream",
     "text": [
      "Info in <TCanvas::Print>: png file 2017thetaphi.png has been created\n",
      "Info in <TCanvas::Print>: png file MC2017thetaphisubtracted.png has been created\n"
     ]
    }
   ],
   "source": [
    "canvas_thetaphi = r.TCanvas(\"higgs_thetaphi\", \"higgs_thetaphi\")\n",
    "h_2017_thetaphi.Draw(\"colz\")\n",
    "h_2017_thetaphi.GetXaxis().SetTitle(\"#phi_{#gamma#gamma}\")\n",
    "h_2017_thetaphi.GetYaxis().SetTitle(\"#theta_{#gamma#gamma}\")\n",
    "canvas_thetaphi.SaveAs(\"2017thetaphi.png\")\n",
    "\n",
    "h_2017_thetaphi_clone = h_2017_thetaphi.Clone()\n",
    "h_MC_thetaphi_clone = h_MC_thetaphi.Clone()\n",
    "h_MC_thetaphi_clone.Scale(scale_MC)\n",
    "h_2017_thetaphi_clone.Add(h_MC_thetaphi_clone, -1)\n",
    "h_2017_thetaphi_clone.Draw(\"colz\")\n",
    "h_2017_thetaphi_clone.GetXaxis().SetTitle(\"#phi_{#gamma#gamma}\")\n",
    "h_2017_thetaphi_clone.GetYaxis().SetTitle(\"#theta_{#gamma#gamma}\")\n",
    "canvas_thetaphi.SaveAs(\"MC2017thetaphisubtracted.png\")"
   ]
  },
  {
   "cell_type": "code",
   "execution_count": 11,
   "id": "8addfa3f-a479-42a4-8ec0-2e53eb6a8fce",
   "metadata": {},
   "outputs": [
    {
     "name": "stderr",
     "output_type": "stream",
     "text": [
      "Info in <TCanvas::Print>: png file 2017_M.png has been created\n"
     ]
    }
   ],
   "source": [
    "canvas_3 = r.TCanvas(\"mass\", \"mass\")\n",
    "h_2017_M.SetLineWidth(2)\n",
    "h_2017_M.SetLineColor(2)\n",
    "h_2017_M.SetLineStyle(1)\n",
    "h_2017_M.SetFillColor(2)\n",
    "h_2017_M.Draw()\n",
    "h_2017_M.GetXaxis().SetTitle(\"m_{#gamma#gamma} [GeV]\")\n",
    "h_2017_M.GetYaxis().SetTitle(\"Entries\")\n",
    "canvas_3.SaveAs(\"2017_M.png\")"
   ]
  },
  {
   "cell_type": "code",
   "execution_count": null,
   "id": "59272fa1-baf1-4dcd-80c5-366d6c0b01b1",
   "metadata": {},
   "outputs": [],
   "source": []
  }
 ],
 "metadata": {
  "kernelspec": {
   "display_name": "PyROOT - Python3",
   "language": "python",
   "name": "pyroot3"
  },
  "language_info": {
   "codemirror_mode": {
    "name": "ipython",
    "version": 3
   },
   "file_extension": ".py",
   "mimetype": "text/x-python",
   "name": "python",
   "nbconvert_exporter": "python",
   "pygments_lexer": "ipython3",
   "version": "3.6.8"
  }
 },
 "nbformat": 4,
 "nbformat_minor": 5
}
