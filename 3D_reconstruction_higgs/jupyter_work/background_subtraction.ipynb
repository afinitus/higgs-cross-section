{
 "cells": [
  {
   "cell_type": "code",
   "execution_count": 2,
   "id": "89d60172-453a-4f88-ac68-1fd2ce05a9d7",
   "metadata": {},
   "outputs": [
    {
     "name": "stdout",
     "output_type": "stream",
     "text": [
      "Welcome to JupyROOT 6.18/00\n"
     ]
    }
   ],
   "source": [
    "import ROOT as r\n",
    "import math as m\n",
    "import os"
   ]
  },
  {
   "cell_type": "code",
   "execution_count": 3,
   "id": "af7b25fa-625d-4e54-aec9-0a0120364aee",
   "metadata": {},
   "outputs": [],
   "source": [
    "Output = r.TChain(\"output\")\n",
    "\n",
    "directory = \"/global/projecta/projectdirs/atlas/eressegu/Ntuple_h026_0630/data15/data/data15/root\"\n",
    "for filename in os.listdir(directory):\n",
    "    f = os.path.join(directory, filename)\n",
    "    if os.path.isfile(f):\n",
    "        Output.Add(f)"
   ]
  },
  {
   "cell_type": "code",
   "execution_count": 4,
   "id": "748bab5e-fc8f-48e7-9b47-6a9a23aefa82",
   "metadata": {},
   "outputs": [],
   "source": [
    "photon1 = r.TLorentzVector()\n",
    "photon2 = r.TLorentzVector()\n",
    "diphoton = r.TLorentzVector()\n",
    "\n",
    "h_thetaphi_sb1 = r.TH2F(\"h_thetaphi_sb1\", \"thetavsphi\", 60,-180, 180, 60, -90, 90)\n",
    "h_thetaphi_sb2 = r.TH2F(\"h_thetaphi_sb2\", \"thetavsphi\", 60,-180, 180, 60, -90, 90)\n",
    "h_thetaphi_sw = r.TH2F(\"h_thetaphi_sw\", \"thetavsphi\", 60,-180, 180, 60, -90, 90)\n",
    "hist3 = r.TH1F(\"hist3\", \"higgs mass\", 60, 0, 600)\n",
    "hist4 = r.TH2F(\"hist4\", \"photon emissions\", 60,-180, 180, 60, -90, 90)\n",
    "hist5 = r.TH1F(\"hist5\", \"higgs phi\", 60, -180, 180)\n",
    "hist6 = r.TH1F(\"hist6\", \"higgs rapidity\" , 60, -3, 3)"
   ]
  },
  {
   "cell_type": "code",
   "execution_count": 6,
   "id": "6b883275-8ba6-43e0-9b90-4f4108726e60",
   "metadata": {},
   "outputs": [
    {
     "name": "stderr",
     "output_type": "stream",
     "text": [
      "Warning in <TCanvas::Constructor>: Deleting canvas with same name: tvpw\n",
      "Info in <TCanvas::Print>: png file ThetavPhiRaw.png has been created\n",
      "Warning in <TCanvas::Constructor>: Deleting canvas with same name: higgs_phi\n",
      "Info in <TCanvas::Print>: png file Higgs_Phi.png has been created\n",
      "Warning in <TCanvas::Constructor>: Deleting canvas with same name: higgs_rapidity\n",
      "Info in <TCanvas::Print>: png file Higgs_Rapidity.png has been created\n"
     ]
    }
   ],
   "source": [
    "for entry in Output:\n",
    "    if entry.isPassed:\n",
    "        photon1.SetPtEtaPhiE(entry.ph_pt1, entry.ph_eta1, entry.ph_phi1, entry.ph_E1)\n",
    "        photon2.SetPtEtaPhiE(entry.ph_pt2, entry.ph_eta2, entry.ph_phi2, entry.ph_E2)\n",
    "        diphoton = photon1 + photon2\n",
    "        angle = diphoton.Pt() / diphoton.Pz()\n",
    "        actual_angle = m.atan(angle)\n",
    "        phi = diphoton.Phi() * 180 / m.pi\n",
    "        rapidity = diphoton.Rapidity()\n",
    "        hist3.Fill(diphoton.M())\n",
    "        hist5.Fill(phi)\n",
    "        hist6.Fill(rapidity)\n",
    "        hist4.Fill(phi, actual_angle * 180 / m.pi)\n",
    "        lowerb = 100.0\n",
    "        lowert = 120.0\n",
    "        upperb = 130.0\n",
    "        uppert = 150.0\n",
    "        if diphoton.M() >= lowerb and diphoton.M() <= lowert:\n",
    "            h_thetaphi_sb1.Fill(phi, actual_angle * 180 / m.pi)\n",
    "        elif diphoton.M() >= upperb and diphoton.M() <= uppert:\n",
    "            h_thetaphi_sb2.Fill(phi, actual_angle * 180 / m.pi)\n",
    "        elif diphoton.M() >= lowert and diphoton.M() <= upperb:\n",
    "            h_thetaphi_sw.Fill(phi, actual_angle * 180 / m.pi)\n",
    "        \n",
    "\n",
    "canvas_4 = r.TCanvas(\"tvpw\", \"tvpw\")\n",
    "hist4.Draw(\"colz\")\n",
    "hist4.GetXaxis().SetTitle(\"#phi_{#gamma#gamma}\")\n",
    "hist4.GetYaxis().SetTitle(\"#theta_{#gamma#gamma}\")\n",
    "canvas_4.SaveAs(\"ThetavPhiRaw.png\")\n",
    "\n",
    "canvas_5 = r.TCanvas(\"higgs_phi\", \"higgs_phi\")\n",
    "hist5.SetLineWidth(2)\n",
    "hist5.SetLineColor(2)\n",
    "hist5.SetLineStyle(1)\n",
    "hist5.SetFillColor(2)\n",
    "hist5.Draw()\n",
    "hist5.GetXaxis().SetTitle(\"Phi_{#gamma#gamma} [GeV]\")\n",
    "hist5.GetYaxis().SetTitle(\"Entries\")\n",
    "canvas_5.SaveAs(\"Higgs_Phi.png\")\n",
    "\n",
    "canvas_6 = r.TCanvas(\"higgs_rapidity\", \"higgs_rapidity\")\n",
    "hist6.SetLineWidth(2)\n",
    "hist6.SetLineColor(2)\n",
    "hist6.SetLineStyle(1)\n",
    "hist6.SetFillColor(2)\n",
    "hist6.Draw()\n",
    "hist6.GetXaxis().SetTitle(\"Rapidity_{#gamma#gamma}\")\n",
    "hist6.GetYaxis().SetTitle(\"Entries\")\n",
    "canvas_6.SaveAs(\"Higgs_Rapidity.png\")\n"
   ]
  },
  {
   "cell_type": "code",
   "execution_count": 7,
   "id": "d113bece-85a8-4e6f-9c3d-c0869b8f18d2",
   "metadata": {},
   "outputs": [
    {
     "name": "stderr",
     "output_type": "stream",
     "text": [
      "Info in <TCanvas::Print>: png file higgs_mass.png has been created\n"
     ]
    }
   ],
   "source": [
    "canvas_3 = r.TCanvas(\"higgs_mass\", \"higgs_mass\")\n",
    "hist3.SetLineWidth(2)\n",
    "hist3.SetLineColor(r.kBlack)\n",
    "hist3.Draw(\"pe\")\n",
    "hist3.GetXaxis().SetTitle(\"m_{#gamma#gamma} [GeV]\")\n",
    "hist3.GetYaxis().SetTitle(\"Entries\")\n",
    "canvas_3.SaveAs(\"higgs_mass.png\")\n",
    "\n"
   ]
  },
  {
   "cell_type": "code",
   "execution_count": 8,
   "id": "a48d6897-9a51-4262-911d-077c55add687",
   "metadata": {},
   "outputs": [
    {
     "data": {
      "text/plain": [
       "<ROOT.TFitResultPtr object at 0x55555b1875e0>"
      ]
     },
     "execution_count": 8,
     "metadata": {},
     "output_type": "execute_result"
    },
    {
     "name": "stdout",
     "output_type": "stream",
     "text": [
      " FCN=1.14442e-27 FROM MIGRAD    STATUS=CONVERGED      28 CALLS          29 TOTAL\n",
      "                     EDM=2.16774e-22    STRATEGY= 1      ERROR MATRIX ACCURATE \n",
      "  EXT PARAMETER                                   STEP         FIRST   \n",
      "  NO.   NAME      VALUE            ERROR          SIZE      DERIVATIVE \n",
      "   1  Constant     4.94274e+00   1.86497e-01   0.00000e+00   4.76757e-09\n",
      "   2  Slope        4.11574e-02   1.67830e-03  -0.00000e+00   5.31263e-07\n"
     ]
    }
   ],
   "source": [
    "fit = r.TF1(\"expofit\", \"expo\", 100, 150)\n",
    "hist3.Fit(fit, \"S\", \"\", 100, 120)"
   ]
  },
  {
   "cell_type": "code",
   "execution_count": 9,
   "id": "85bb9c10-3557-49fd-96e8-d3d02db2c834",
   "metadata": {},
   "outputs": [
    {
     "name": "stdout",
     "output_type": "stream",
     "text": [
      "266693.07065148244\n",
      "916735.8247939995\n",
      "242084.1494377998\n"
     ]
    }
   ],
   "source": [
    "N1 = fit.Integral(100, 120)\n",
    "print(N1)\n",
    "N3 = fit.Integral(130, 150)\n",
    "print(N3)\n",
    "N2 = fit.Integral(120, 130)\n",
    "print(N2)"
   ]
  },
  {
   "cell_type": "code",
   "execution_count": 11,
   "id": "65d42c20-3f10-449c-9a27-9dd068a6bdcc",
   "metadata": {},
   "outputs": [
    {
     "name": "stdout",
     "output_type": "stream",
     "text": [
      "26482.0\n",
      "14642.0\n",
      "11766.0\n",
      "52890.0\n"
     ]
    }
   ],
   "source": [
    "print(hist3.Integral(11, 12))\n",
    "print(hist3.Integral(14, 15))\n",
    "print(hist3.Integral(13, 13))\n",
    "print(hist3.Integral(11, 15))"
   ]
  },
  {
   "cell_type": "code",
   "execution_count": 12,
   "id": "f817ed33-f541-4c7c-af2b-f30d1117e299",
   "metadata": {},
   "outputs": [
    {
     "name": "stdout",
     "output_type": "stream",
     "text": [
      "0.44430178989502306\n",
      "0.8035787460729409\n"
     ]
    }
   ],
   "source": [
    "print(hist3.Integral(13, 13)/hist3.Integral(11, 12))\n",
    "print(hist3.Integral(13, 13)/hist3.Integral(14, 15))"
   ]
  },
  {
   "cell_type": "code",
   "execution_count": 13,
   "id": "c7322d4e-3903-4c5d-8759-32a0ee050b48",
   "metadata": {},
   "outputs": [
    {
     "name": "stdout",
     "output_type": "stream",
     "text": [
      "0.9077256819850341 0.26407187642328556\n"
     ]
    }
   ],
   "source": [
    "w1 = N2/N1\n",
    "w2 = N2/N3\n",
    "print(w1, w2)"
   ]
  },
  {
   "cell_type": "code",
   "execution_count": 14,
   "id": "640323eb-1457-4919-a827-580606e2ebba",
   "metadata": {},
   "outputs": [
    {
     "name": "stderr",
     "output_type": "stream",
     "text": [
      "Info in <TCanvas::Print>: png file Higgs_mass_weight.png has been created\n"
     ]
    }
   ],
   "source": [
    "hist31 = r.TH1F(\"hist\", \"higgs mass\", 60, 0, 600)\n",
    "#for entry in Output:\n",
    "    #photon1.SetPtEtaPhiE(entry.ph_pt1, entry.ph_eta1, entry.ph_phi1, entry.ph_E1)\n",
    "    #photon2.SetPtEtaPhiE(entry.ph_pt2, entry.ph_eta2, entry.ph_phi2, entry.ph_E2)\n",
    "    #diphoton = photon1 + photon2\n",
    "    #hist31.Fill(diphoton.M(), w1 * .9)\n",
    "canvas_31 = r.TCanvas(\"higgs_mass_weight\", \"higgs_mass_weight\")\n",
    "hist31.SetLineWidth(2)\n",
    "hist31.SetLineColor(2)\n",
    "hist31.SetLineStyle(1)\n",
    "hist31.SetFillColor(2)\n",
    "hist31.Draw()\n",
    "hist31.GetXaxis().SetTitle(\"m_{#gamma#gamma} [GeV]\")\n",
    "hist31.GetYaxis().SetTitle(\"Entries\")\n",
    "canvas_31.SaveAs(\"Higgs_mass_weight.png\")\n"
   ]
  },
  {
   "cell_type": "code",
   "execution_count": 15,
   "id": "a388f6d0-b57d-40df-94f7-44663e461d1e",
   "metadata": {},
   "outputs": [
    {
     "name": "stderr",
     "output_type": "stream",
     "text": [
      "Info in <TCanvas::Print>: png file mass_subtracted.png has been created\n"
     ]
    }
   ],
   "source": [
    "mass_clone = hist3.Clone(\"mass_clone\")\n",
    "mass_clone.Add(hist31, -1)\n",
    "canvas_32 = r.TCanvas(\"mass_subtracted\", \"mass_subtracted\")\n",
    "mass_clone.SetLineWidth(2)\n",
    "mass_clone.SetLineColor(2)\n",
    "mass_clone.SetLineStyle(1)\n",
    "mass_clone.SetFillColor(2)\n",
    "mass_clone.Draw()\n",
    "mass_clone.GetXaxis().SetTitle(\"m_{#gamma#gamma} [GeV]\")\n",
    "mass_clone.GetYaxis().SetTitle(\"Entries\")\n",
    "canvas_32.SaveAs(\"mass_subtracted.png\")"
   ]
  },
  {
   "cell_type": "code",
   "execution_count": 16,
   "id": "ba8d2160-edfb-42ea-9d43-05eed9cb7ff4",
   "metadata": {},
   "outputs": [
    {
     "name": "stdout",
     "output_type": "stream",
     "text": [
      "26482.0\n",
      "14642.0\n",
      "11766.0\n",
      "52890.0\n",
      "26482.0\n",
      "14642.0\n",
      "11766.0\n"
     ]
    }
   ],
   "source": [
    "print(hist3.Integral(11, 12))\n",
    "print(hist3.Integral(14, 15))\n",
    "print(hist3.Integral(13, 13))\n",
    "print(hist3.Integral(11, 15))\n",
    "print(h_thetaphi_sb1.Integral())\n",
    "print(h_thetaphi_sb2.Integral())\n",
    "print(h_thetaphi_sw.Integral())"
   ]
  },
  {
   "cell_type": "code",
   "execution_count": 17,
   "id": "27d8e858-e312-4a65-998a-3e25608be360",
   "metadata": {},
   "outputs": [
    {
     "name": "stderr",
     "output_type": "stream",
     "text": [
      "Info in <TCanvas::Print>: png file thetavphisubtracted.png has been created\n",
      "Info in <TCanvas::Print>: png file thetavphi_setbands.png has been created\n",
      "Info in <TCanvas::Print>: png file thetavphi_setband1.png has been created\n",
      "Info in <TCanvas::Print>: png file thetavphi_setband2.png has been created\n",
      "Info in <TCanvas::Print>: png file thetavphi_signal_window.png has been created\n"
     ]
    }
   ],
   "source": [
    "h_thetaphi_sb1.Scale(w1/2)\n",
    "h_thetaphi_sb2.Scale(w2/2)\n",
    "h_thetaphi_sb = h_thetaphi_sb1.Clone(\"h_thetaphi_sb\")\n",
    "h_thetaphi_sb.Add(h_thetaphi_sb2)\n",
    "h_thetaphi_s = h_thetaphi_sw.Clone(\"h_thetaphi_s\")\n",
    "h_thetaphi_s.Add(h_thetaphi_sb, -1)\n",
    "canvas_thetaphi = r.TCanvas(\"tvp_subtracted\", \"tvp_subtracted\")\n",
    "h_thetaphi_s.Draw(\"colz\")\n",
    "h_thetaphi_s.GetXaxis().SetTitle(\"#phi_{#gamma#gamma}\")\n",
    "h_thetaphi_s.GetYaxis().SetTitle(\"#theta_{#gamma#gamma}\")\n",
    "canvas_thetaphi.SaveAs(\"thetavphisubtracted.png\")\n",
    "\n",
    "h_thetaphi_sb.Draw(\"colz\")\n",
    "h_thetaphi_sb.GetXaxis().SetTitle(\"#phi_{#gamma#gamma}\")\n",
    "h_thetaphi_sb.GetYaxis().SetTitle(\"#theta_{#gamma#gamma}\")\n",
    "canvas_thetaphi.SaveAs(\"thetavphi_setbands.png\")\n",
    "\n",
    "h_thetaphi_sb1.Draw(\"colz\")\n",
    "h_thetaphi_sb1.GetXaxis().SetTitle(\"#phi_{#gamma#gamma}\")\n",
    "h_thetaphi_sb1.GetYaxis().SetTitle(\"#theta_{#gamma#gamma}\")\n",
    "canvas_thetaphi.SaveAs(\"thetavphi_setband1.png\")\n",
    "\n",
    "h_thetaphi_sb2.Draw(\"colz\")\n",
    "h_thetaphi_sb2.GetXaxis().SetTitle(\"#phi_{#gamma#gamma}\")\n",
    "h_thetaphi_sb2.GetYaxis().SetTitle(\"#theta_{#gamma#gamma}\")\n",
    "canvas_thetaphi.SaveAs(\"thetavphi_setband2.png\")\n",
    "\n",
    "h_thetaphi_sw.Draw(\"colz\")\n",
    "h_thetaphi_sw.GetXaxis().SetTitle(\"#phi_{#gamma#gamma}\")\n",
    "h_thetaphi_sw.GetYaxis().SetTitle(\"#theta_{#gamma#gamma}\")\n",
    "canvas_thetaphi.SaveAs(\"thetavphi_signal_window.png\")\n",
    " "
   ]
  },
  {
   "cell_type": "code",
   "execution_count": 18,
   "id": "18823c00-9287-4ca6-96c9-2247f1255b8d",
   "metadata": {},
   "outputs": [
    {
     "name": "stdout",
     "output_type": "stream",
     "text": [
      "-2186.46599984169\n",
      "11766.0\n",
      "12019.195722460747\n",
      "1933.270228087902\n",
      "13952.465986847878\n"
     ]
    }
   ],
   "source": [
    "print(h_thetaphi_s.Integral())\n",
    "print(h_thetaphi_sw.Integral())\n",
    "print(h_thetaphi_sb1.Integral())\n",
    "print(h_thetaphi_sb2.Integral())\n",
    "print(h_thetaphi_sb.Integral())"
   ]
  },
  {
   "cell_type": "code",
   "execution_count": null,
   "id": "9fef5897-8881-47e6-9768-854fa74eebcd",
   "metadata": {},
   "outputs": [],
   "source": []
  }
 ],
 "metadata": {
  "kernelspec": {
   "display_name": "PyROOT - Python3",
   "language": "python",
   "name": "pyroot3"
  },
  "language_info": {
   "codemirror_mode": {
    "name": "ipython",
    "version": 3
   },
   "file_extension": ".py",
   "mimetype": "text/x-python",
   "name": "python",
   "nbconvert_exporter": "python",
   "pygments_lexer": "ipython3",
   "version": "3.6.8"
  }
 },
 "nbformat": 4,
 "nbformat_minor": 5
}
